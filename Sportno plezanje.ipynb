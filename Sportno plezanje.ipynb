{
 "cells": [
  {
   "cell_type": "markdown",
   "metadata": {},
   "source": [
    "# Športno plezanje"
   ]
  },
  {
   "cell_type": "markdown",
   "metadata": {},
   "source": [
    "Tu bom naredil projekt pri predmetu Programiranje 1.\n",
    "\n",
    "Z interneta bom potegnil podatke o številu tekmovalcev na državnem prvenstvu v športnem plezanju in njihove rezultate. Te podatke razvrščene po letih, kategorijah in vrsti tekme analiziramo."
   ]
  },
  {
   "cell_type": "markdown",
   "metadata": {},
   "source": [
    "Natančneje bom s spletne strani Komisije za športno plezanje(http://ksp.pzs.si/?content=dp&id=24) shranil podatke o številu tekmovalcev v posamezni kategoriji. Z uporabo teh podatkov bom analiziral kako se spreminja število tekmovalcev po kategorijah v posameznih letih tekmovanja. Analiziral bom tudi razlike med tekmovalci v skupni razvrstitvi(po številu točk), ter uspešnost klubov skozi leta."
   ]
  },
  {
   "cell_type": "markdown",
   "metadata": {},
   "source": [
    "Moja hipoteza je, da je število tekmovalvec v mlajših kategorijah močno naraslo. V starejših kategorijah pa je na splošno število tekmovalcev večje kot je bilo na začetku(leto 2003) vendar je glavni indikator o številu tekmovalvec v posamezni kategoriji katera generacija tekmuje v tisti kategoriji, saj je v nekaterih generacijah malo tekmovalcev, n nekaterih pa predsej več. "
   ]
  },
  {
   "cell_type": "markdown",
   "metadata": {},
   "source": [
    "Glede razlik med tekmovalvi predvidevam, da so razlike povsem naključne in se odražajo predvsem po kategorijah(nekdo je precej boljši od ostalih in tako ostane tudi ko preidejo v višje kategorije). Kar pa se tiče klubom je moja hipoteza, da so določeni klubi že vrsto let med najuspešnejšimi, ostali pa so naključno razporejeni pod njimi in razlika med bolšimi in ostalimi je velo velika."
   ]
  }
 ],
 "metadata": {
  "kernelspec": {
   "display_name": "Python 3",
   "language": "python",
   "name": "python3"
  },
  "language_info": {
   "codemirror_mode": {
    "name": "ipython",
    "version": 3
   },
   "file_extension": ".py",
   "mimetype": "text/x-python",
   "name": "python",
   "nbconvert_exporter": "python",
   "pygments_lexer": "ipython3",
   "version": "3.5.1"
  }
 },
 "nbformat": 4,
 "nbformat_minor": 1
}
